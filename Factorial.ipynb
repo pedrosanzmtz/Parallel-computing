{
 "cells": [
  {
   "cell_type": "markdown",
   "metadata": {
    "deletable": true,
    "editable": true
   },
   "source": [
    "# My title #"
   ]
  },
  {
   "cell_type": "markdown",
   "metadata": {
    "deletable": true,
    "editable": true
   },
   "source": [
    "Import function time to estimate time processing time"
   ]
  },
  {
   "cell_type": "code",
   "execution_count": 1,
   "metadata": {
    "collapsed": true,
    "deletable": true,
    "editable": true
   },
   "outputs": [],
   "source": [
    "from time import time"
   ]
  },
  {
   "cell_type": "markdown",
   "metadata": {
    "deletable": true,
    "editable": true
   },
   "source": [
    "Calculating factorial with one process First define a function with 1 tuple as parameter"
   ]
  },
  {
   "cell_type": "code",
   "execution_count": 2,
   "metadata": {
    "collapsed": true,
    "deletable": true,
    "editable": true
   },
   "outputs": [],
   "source": [
    "def factorial(vector):\n",
    "    start = vector[0]\n",
    "    end = vector[1]\n",
    "    result = 1\n",
    "    for i in range(start, end+1):\n",
    "        result = result * i\n",
    "    return result"
   ]
  },
  {
   "cell_type": "code",
   "execution_count": 3,
   "metadata": {
    "collapsed": false,
    "deletable": true,
    "editable": true
   },
   "outputs": [
    {
     "name": "stdout",
     "output_type": "stream",
     "text": [
      "Time with one process: 2.8202810287475586\n"
     ]
    }
   ],
   "source": [
    "OneProcessTo = time()\n",
    "OneProcessResult = factorial((1,100000))\n",
    "OneProcessTf = time()\n",
    "OneProcessTime = OneProcessTf - OneProcessTo\n",
    "print(\"Time with one process:\", OneProcessTime)"
   ]
  },
  {
   "cell_type": "code",
   "execution_count": 4,
   "metadata": {
    "collapsed": true,
    "deletable": true,
    "editable": true
   },
   "outputs": [],
   "source": [
    "from multiprocessing import Pool"
   ]
  },
  {
   "cell_type": "code",
   "execution_count": 5,
   "metadata": {
    "collapsed": false,
    "deletable": true,
    "editable": true
   },
   "outputs": [
    {
     "name": "stdout",
     "output_type": "stream",
     "text": [
      "Time with Four processes:  0.5777556896209717\n"
     ]
    }
   ],
   "source": [
    "FourProcessesTo = time()\n",
    "pool = Pool(4)\n",
    "ranges = [((int(100000/4)*i+1), int(100000/4)*(i+1)) for i in range(4)]\n",
    "roots = pool.map(factorial, ranges)\n",
    "FourProcessesResult = 1\n",
    "for i in roots:\n",
    "    FourProcessesResult = FourProcessesResult * i\n",
    "FourProcessesTf = time()\n",
    "FourProcessesTime = FourProcessesTf - FourProcessesTo\n",
    "print(\"Time with Four processes: \", FourProcessesTime)"
   ]
  },
  {
   "cell_type": "code",
   "execution_count": null,
   "metadata": {
    "collapsed": true,
    "deletable": true,
    "editable": true
   },
   "outputs": [],
   "source": []
  }
 ],
 "metadata": {
  "kernelspec": {
   "display_name": "Python 3",
   "language": "python",
   "name": "python3"
  },
  "language_info": {
   "codemirror_mode": {
    "name": "ipython",
    "version": 3
   },
   "file_extension": ".py",
   "mimetype": "text/x-python",
   "name": "python",
   "nbconvert_exporter": "python",
   "pygments_lexer": "ipython3",
   "version": "3.5.2"
  }
 },
 "nbformat": 4,
 "nbformat_minor": 0
}
